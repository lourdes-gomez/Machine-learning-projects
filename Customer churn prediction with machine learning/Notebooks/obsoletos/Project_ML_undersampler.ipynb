{
 "cells": [
  {
   "cell_type": "code",
   "execution_count": null,
   "metadata": {},
   "outputs": [],
   "source": []
  },
  {
   "cell_type": "markdown",
   "metadata": {},
   "source": [
    "We see it is highly unbalanced, as we have more than 7000 samples we can afford losing some data to balance the target , let's use random under sampler to do this"
   ]
  },
  {
   "cell_type": "code",
   "execution_count": null,
   "metadata": {},
   "outputs": [],
   "source": [
    "rus = RandomUnderSampler(random_state=42)\n",
    "X_rus, y_rus = rus.fit_resample(df.iloc[:, 0:21], df['Churn'])"
   ]
  },
  {
   "cell_type": "code",
   "execution_count": null,
   "metadata": {},
   "outputs": [
    {
     "data": {
      "text/plain": [
       "Index([2134, 2693, 1679, 5998, 6798, 1994, 1531, 5089, 6560,  707,\n",
       "       ...\n",
       "       7008, 7009, 7010, 7011, 7018, 7021, 7026, 7032, 7034, 7041],\n",
       "      dtype='int64', length=3738)"
      ]
     },
     "metadata": {},
     "output_type": "display_data"
    }
   ],
   "source": [
    "X_rus.index"
   ]
  },
  {
   "cell_type": "code",
   "execution_count": null,
   "metadata": {},
   "outputs": [],
   "source": [
    "df = pd.merge(X_rus,y_rus, left_index=True, right_index=True)"
   ]
  },
  {
   "cell_type": "code",
   "execution_count": null,
   "metadata": {},
   "outputs": [
    {
     "name": "stdout",
     "output_type": "stream",
     "text": [
      "<class 'pandas.core.frame.DataFrame'>\n",
      "Index: 3738 entries, 2134 to 7041\n",
      "Data columns (total 22 columns):\n",
      " #   Column            Non-Null Count  Dtype  \n",
      "---  ------            --------------  -----  \n",
      " 0   customerID        3738 non-null   object \n",
      " 1   gender            3738 non-null   object \n",
      " 2   SeniorCitizen     3738 non-null   int64  \n",
      " 3   Partner           3738 non-null   object \n",
      " 4   Dependents        3738 non-null   object \n",
      " 5   tenure            3738 non-null   int64  \n",
      " 6   PhoneService      3738 non-null   object \n",
      " 7   MultipleLines     3738 non-null   object \n",
      " 8   InternetService   3738 non-null   object \n",
      " 9   OnlineSecurity    3738 non-null   object \n",
      " 10  OnlineBackup      3738 non-null   object \n",
      " 11  DeviceProtection  3738 non-null   object \n",
      " 12  TechSupport       3738 non-null   object \n",
      " 13  StreamingTV       3738 non-null   object \n",
      " 14  StreamingMovies   3738 non-null   object \n",
      " 15  Contract          3738 non-null   object \n",
      " 16  PaperlessBilling  3738 non-null   object \n",
      " 17  PaymentMethod     3738 non-null   object \n",
      " 18  MonthlyCharges    3738 non-null   float64\n",
      " 19  TotalCharges      3738 non-null   object \n",
      " 20  Churn Reason      3738 non-null   object \n",
      " 21  Churn             3738 non-null   object \n",
      "dtypes: float64(1), int64(2), object(19)\n",
      "memory usage: 800.7+ KB\n"
     ]
    }
   ],
   "source": [
    "df.info()"
   ]
  },
  {
   "cell_type": "code",
   "execution_count": null,
   "metadata": {},
   "outputs": [
    {
     "data": {
      "text/plain": [
       "Churn\n",
       "No     1869\n",
       "Yes    1869\n",
       "Name: count, dtype: int64"
      ]
     },
     "metadata": {},
     "output_type": "display_data"
    }
   ],
   "source": [
    "df.Churn.value_counts()"
   ]
  },
  {
   "cell_type": "code",
   "execution_count": null,
   "metadata": {},
   "outputs": [
    {
     "data": {
      "text/plain": [
       "<Axes: xlabel='Churn', ylabel='count'>"
      ]
     },
     "metadata": {},
     "output_type": "display_data"
    },
    {
     "data": {
      "image/png": "[encoded data removed]",
      "text/plain": [
       "<Figure size 640x480 with 1 Axes>"
      ]
     },
     "metadata": {},
     "output_type": "display_data"
    }
   ],
   "source": [
    "sns.countplot(x=\"Churn\", data=df)"
   ]
  },
  {
   "cell_type": "markdown",
   "metadata": {},
   "source": [
    "Now data is balanced, which makes "
   ]
  },
  {
   "cell_type": "code",
   "execution_count": null,
   "metadata": {},
   "outputs": [],
   "source": [
    "pipe = Pipeline(steps=[(\"sampler\",RandomUnderSampler()),\n",
    "                        (\"model\",RandomForestClassifer())])\n",
    "\n",
    "\n",
    "crossv_rfc = cross_val_score(pipe, X_train, y_train, cv = 5, scoring = \"accuracy\" )"
   ]
  }
 ],
 "metadata": {
  "language_info": {
   "name": "python"
  }
 },
 "nbformat": 4,
 "nbformat_minor": 2
}
